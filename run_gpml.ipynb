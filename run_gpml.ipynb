{
 "cells": [
  {
   "cell_type": "code",
   "execution_count": null,
   "metadata": {
    "collapsed": false
   },
   "outputs": [],
   "source": [
    "import logging\n",
    "from time import time\n",
    "\n",
    "import GPy\n",
    "import GPy.kern as K\n",
    "import matplotlib.pyplot as plt\n",
    "import numpy as np\n",
    "import pandas as pd\n",
    "import sklearn\n",
    "import sklearn.cross_validation\n",
    "from IPython.display import display\n",
    "\n",
    "import fs_loader\n",
    "\n",
    "\n",
    "%matplotlib inline\n",
    "\n",
    "\n",
    "logger = logging.getLogger()\n",
    "logger.setLevel(logging.DEBUG)\n",
    "\n",
    "def filter_valid_dates(df, request):\n",
    "    assert 'longitude' in df.columns and 'latitude' in df.columns\n",
    "    spatial_df = df[(df.valid_date >= request['start']) & (df.valid_date <= request['end'])].copy()\n",
    "    assert len(spatial_df) > 0, \"date range [%s - %s] not included in data\" % (request['start'], request['end'])\n",
    "    print(\"Selected %d valid date(s).\" % len(spatial_df.valid_date.unique()))\n",
    "    return spatial_df\n",
    "    \n",
    "\n",
    "def filter_forecast_hours(df, request):\n",
    "    return df[df.forecast_hour.isin(request['forecast_hours'])].copy()\n",
    "    \n",
    "    \n",
    "def calculate_error(df, request):\n",
    "    predictant = request['predictant']\n",
    "    model = request['model_name']\n",
    "    obs_col = predictant + '_observed'\n",
    "    main_predictor = predictant + '_' + model\n",
    "    error = df[obs_col] - df[main_predictor]\n",
    "    return error\n",
    "\n",
    "\n",
    "def load_dataset(request):\n",
    "    print(\"Loading dataset..\")\n",
    "    dataset = fs_loader.load_dataset(request)\n",
    "    dataset[request['predictant'] + '_error'] = calculate_error(dataset, request)\n",
    "    dataset = filter_valid_dates(dataset, request)\n",
    "    dataset = filter_forecast_hours(dataset, request)\n",
    "    print(\"Done loading dataset.\")\n",
    "    print(\"Stations in set: %d\" % (len(dataset.station_id.unique())))\n",
    "    return dataset\n",
    "\n",
    "\n",
    "def split_dataset(dataset, feature_cols, obs_col):\n",
    "    station_ids = dataset.station_id.unique()\n",
    "    train_stations, test_stations = sklearn.cross_validation.train_test_split(\n",
    "        station_ids, test_size=0.10\n",
    "    )\n",
    "\n",
    "    X_train = dataset.loc[\n",
    "        dataset.station_id.isin(train_stations), \n",
    "        feature_cols\n",
    "    ].values\n",
    "\n",
    "    X_test = dataset.loc[\n",
    "        dataset.station_id.isin(test_stations),\n",
    "        feature_cols\n",
    "    ].values\n",
    "\n",
    "    y_train = dataset.loc[\n",
    "        dataset.station_id.isin(train_stations),\n",
    "        [obs_col]\n",
    "    ].values\n",
    "\n",
    "    y_test = dataset.loc[\n",
    "        dataset.station_id.isin(test_stations),\n",
    "        [obs_col]\n",
    "    ].values\n",
    "    return X_train, X_test, y_train, y_test\n",
    "\n",
    "\n",
    "def do_verification(kernel, request):\n",
    "    dataset = load_dataset(request)\n",
    "    valid_dates = dataset.valid_date.unique()\n",
    "    grouper = dataset.groupby(['forecast_hour', 'valid_date'])\n",
    "    results = []\n",
    "    # TODO Parallelize below loop.\n",
    "    for count, ((forecast_hour, valid_date), df) in enumerate(grouper):\n",
    "        print(\"Validating date %s (%d / %d).\" % (valid_date, count + 1, len(valid_dates)))\n",
    "        # TODO Create name generator based on GP objects.\n",
    "        mae, rmse = preprocess_and_fit_model(df.copy(), kernel, request)\n",
    "        results.append([forecast_hour, valid_date, mae, rmse])\n",
    "    result_df = pd.DataFrame(results, columns=['forecast_hour', 'valid_date', 'mae', 'rmse'])\n",
    "    return result_df\n",
    "\n",
    "\n",
    "def preprocess_and_fit_model(dataset, kernel, request):\n",
    "    # TODO TdR 17/07/16: preserve original row-mapping for later reference\n",
    "    # TODO TdR 19/07/16: Try feature embeddings\n",
    "    observation_column = request['predictant'] + '_error'\n",
    "    nr_folds = request['nr_folds']\n",
    "    mae = 0\n",
    "    rmse = 0\n",
    "    for _ in range(nr_folds):\n",
    "        X_train, X_test, y_train, y_test = \\\n",
    "            split_dataset(dataset, request['features'], observation_column)\n",
    "        gp = fit_model(X_train, y_train, kernel, False)\n",
    "        predictions, _ = chunk_predict(gp, X_test, verbose=False)\n",
    "        mae += sklearn.metrics.mean_absolute_error(y_true=y_test, y_pred=predictions)\n",
    "        rmse += np.sqrt((sklearn.metrics.mean_squared_error(y_true=y_test, y_pred=predictions)))\n",
    "    return mae / nr_folds, rmse / nr_folds\n",
    "    \n",
    "    \n",
    "def fit_model(X, y, kernel, verbose=True):\n",
    "    if verbose:\n",
    "        print(\"Training GP..\")\n",
    "        start = time()\n",
    "    gp = GPy.models.GPRegression(X, y, kernel=kernel, normalizer=True)\n",
    "    gp.optimize(messages=verbose)\n",
    "    if verbose:\n",
    "        end = time()\n",
    "        print(\"Finished GP training (%ds).\" % (end - start))\n",
    "    return gp\n",
    "\n",
    "\n",
    "def chunk_predict(gp, input_vector, chunk_size=5000, verbose=True):\n",
    "    preds = []\n",
    "    var = []\n",
    "    points_done = 0\n",
    "    for chunk in chunks(input_vector, chunk_size):\n",
    "        chunk_preds, chunk_var = gp.predict(chunk)\n",
    "        preds.append(chunk_preds)\n",
    "        var.append(chunk_var)\n",
    "        points_done += len(chunk)\n",
    "        if verbose:\n",
    "            print(\"Finished %d / %d predictions..\" % (points_done, len(input_vector)))\n",
    "    return np.concatenate(preds), np.concatenate(var)\n",
    "\n",
    "\n",
    "def chunks(l, n):\n",
    "    \"\"\"Yield successive n-sized chunks from l.\"\"\"\n",
    "    for i in range(0, len(l), n):\n",
    "        yield l[i:i+n]\n",
    "\n",
    "\n",
    "def get_kernel(input_dim):\n",
    "    kernel = K.Matern52(input_dim, ARD=True) + K.White(input_dim)\n",
    "    return kernel\n",
    "\n",
    "\n",
    "def fit_single_model_and_return_dataset(kernel, request):\n",
    "    dataset = load_dataset(request)\n",
    "    \n",
    "    observation_column = request['predictant'] + '_error'\n",
    "    X_train, X_test, y_train, y_test = \\\n",
    "        split_dataset(dataset, request['features'], observation_column)\n",
    "    print(\"Dataset: %d rows, %d features\" % X_train.shape)\n",
    "    gp = fit_model(X_train, y_train, kernel)\n",
    "\n",
    "    # Validate model\n",
    "    predictions, _ = chunk_predict(gp, X_test)\n",
    "    print(\"MAE: %.3f.\" % (sklearn.metrics.mean_absolute_error(y_true=y_test, y_pred=predictions)))\n",
    "    print(\"RMSE: %.3f.\" % np.sqrt((sklearn.metrics.mean_squared_error(y_true=y_test, y_pred=predictions))))\n",
    "    return gp, dataset"
   ]
  },
  {
   "cell_type": "code",
   "execution_count": null,
   "metadata": {
    "collapsed": true
   },
   "outputs": [],
   "source": [
    "# Spatial prediction\n",
    "import altitude\n",
    "\n",
    "def generate_latlon_grid(request):\n",
    "    top_lat, bot_lat, left_lon, right_lon = request['predict_area']\n",
    "    res = request['predict_resolution']\n",
    "    n_lons = int(np.ceil(abs(right_lon - left_lon) / res))\n",
    "    n_lats = int(np.ceil(abs(top_lat - bot_lat) / res))    \n",
    "    lat_grid, lon_grid = np.meshgrid(np.linspace(bot_lat, top_lat, n_lats),\n",
    "                                     np.linspace(left_lon, right_lon, n_lons)\n",
    "                                    )\n",
    "    latlon_vector = np.hstack([\n",
    "            lat_grid.reshape(lat_grid.size, 1), \n",
    "            lon_grid.reshape(lon_grid.size, 1)])\n",
    "    return latlon_vector, n_lats, n_lons\n",
    "\n",
    "\n",
    "def get_elevations(request):\n",
    "    e = altitude.ElevationService('.cache/')\n",
    "    latlon_vector, n_lats, n_lons = generate_latlon_grid(request)\n",
    "    elevations = []\n",
    "    for point in latlon_vector:\n",
    "        elevations.append(e.get_elevation(*point))\n",
    "    return np.array(elevations)\n",
    "\n",
    "\n",
    "def predict_area(gp, request):\n",
    "    data, n_lats, n_lons = generate_latlon_grid(request)\n",
    "    if 'elevation' in request['features']:\n",
    "        elevations = get_elevations(request)\n",
    "        data = np.hstack([data, elevations.reshape((elevations.size, 1))])\n",
    "    print(\"Predicting for %d points and %d features..\" % data.shape)\n",
    "    y_pred, var = chunk_predict(gp, data)\n",
    "    y_pred = y_pred.reshape((n_lons, n_lats)).T\n",
    "    var = var.reshape((n_lons, n_lats)).T\n",
    "    return y_pred, var"
   ]
  },
  {
   "cell_type": "code",
   "execution_count": null,
   "metadata": {
    "collapsed": false,
    "scrolled": true
   },
   "outputs": [],
   "source": [
    "# Available features.\n",
    "#     ['station_id' 'latitude' 'longitude' 'elevation' 'forecast_hour'\n",
    "#  'valid_date' 'TT2m_observed' 'TT2m_ModelMix' 'FF10m_ModelMix' 'valid_hour'\n",
    "#  'valid_month']\n",
    "\n",
    "test_request = {\n",
    "    'predictant': 'TT2m',\n",
    "    'model_elements': ['TT2m', 'FF10m'],\n",
    "    'features': ['latitude', 'longitude', 'elevation', 'TT2m_ModelMix', 'FF10m_ModelMix'],\n",
    "    'forecast_hours': [24, 30, 36, 42],\n",
    "    'model_name': 'ModelMix',\n",
    "    'start': dt.datetime(2015, 12, 1),\n",
    "    'end': dt.datetime(2015, 12, 10),\n",
    "    'predict_area': (50, 45, 5, 10),  # Swiss Alps\n",
    "#     'predict_area': (60, 33, -12, 20),  # Europe\n",
    "    'predict_resolution': 0.1,\n",
    "    'nr_folds': 5\n",
    "}\n",
    "\n",
    "# TODO Add feature hours by merging forecast hours horizontally and suffixing the hour column to the duplicate columns.\n",
    "\n",
    "start_time = time()\n",
    "# kernel = get_kernel(len(test_request['features']))\n",
    "print(\"Experiment 1\")\n",
    "input_dim = len(test_request['features'])\n",
    "kernel = K.Matern52(input_dim, ARD=True) + K.White(input_dim)\n",
    "results1 = do_verification(kernel, test_request)\n",
    "\n",
    "print(\"Experiment 2\")\n",
    "kernel = K.Matern52(input_dim, ARD=True) + K.White(input_dim) + K.Bias(input_dim) + K.Linear(input_dim, ARD=True)\n",
    "results2 = do_verification(kernel, test_request)\n",
    "end_time = time()\n",
    "print(\"Total processing time: %ds\" % (end_time - start_time))"
   ]
  },
  {
   "cell_type": "code",
   "execution_count": null,
   "metadata": {
    "collapsed": false,
    "scrolled": false
   },
   "outputs": [],
   "source": [
    "# Plot spatial interpolation on map.\n",
    "map_request = {\n",
    "    'predictant': 'TT2m',\n",
    "    'model_elements': ['TT2m', 'FF10m'],\n",
    "    'features': ['latitude', 'longitude', 'elevation'],\n",
    "    'forecast_hours': [42],\n",
    "    'model_name': 'ModelMix',\n",
    "    'start': dt.datetime(2015, 11, 1),\n",
    "    'end': dt.datetime(2015, 11, 2),\n",
    "    'predict_area': (50, 45, 5, 10),  # Swiss Alps\n",
    "#     'predict_area': (60, 33, -12, 20),  # Europe\n",
    "    'predict_resolution': 0.01,\n",
    "}\n",
    "input_dim = len(map_request['features'])\n",
    "kernel = K.Matern52(input_dim, ARD=True) + K.White(input_dim) + K.Bias(input_dim) + K.Linear(input_dim)\n",
    "gp, dataset = fit_single_model_and_return_dataset(kernel, map_request)\n",
    "predictions, variance = predict_area(gp, map_request)\n",
    "plotting.plot_prediction_distribution(predictions)\n",
    "plotting.plot_area(dataset, map_request, predictions)"
   ]
  },
  {
   "cell_type": "code",
   "execution_count": null,
   "metadata": {
    "collapsed": false
   },
   "outputs": [],
   "source": [
    "# Plot elevations.\n",
    "import altitude\n",
    "import numpy as np\n",
    "import matplotlib.pyplot as plt\n",
    "\n",
    "test_request = {\n",
    "    'predictant': 'TT2m',\n",
    "    'model_elements': ['TT2m', 'FF10m'],\n",
    "    'features': ['latitude', 'longitude', 'elevation'],\n",
    "    'forecast_hours': np.arange(24, 48, 1),\n",
    "    'model_name': 'ModelMix',\n",
    "    'start': dt.datetime(2015, 11, 1),\n",
    "    'end': dt.datetime(2016, 11, 7),\n",
    "    'predict_area': (50, 45, 5, 10),  # Swiss Alps\n",
    "#     'predict_area': (60, 33, -12, 20),  # Europe\n",
    "    'predict_resolution': 0.01,\n",
    "    'nr_folds': 5\n",
    "}\n",
    "e = altitude.ElevationService('.cache/')\n",
    "latlon_vector, n_lats, n_lons = generate_latlon_grid(test_request)\n",
    "elevations = []\n",
    "for point in latlon_vector:\n",
    "    elevations.append(e.get_elevation(*point))\n",
    "elevations = np.array(elevations).reshape((n_lons, n_lats)).T\n",
    "top_lat, bot_lat, left_lon, right_lon = test_request['predict_area']\n",
    "\n",
    "plt.contour(\n",
    "    elevations,\n",
    "    np.arange(0, 5000, 100),\n",
    "    extent=(left_lon, right_lon, bot_lat, top_lat),\n",
    "#     antialiased=True,\n",
    "    zorder=999\n",
    ")\n",
    "plt.colorbar()"
   ]
  }
 ],
 "metadata": {
  "kernelspec": {
   "display_name": "Python 3",
   "language": "python",
   "name": "python3"
  },
  "language_info": {
   "codemirror_mode": {
    "name": "ipython",
    "version": 3.0
   },
   "file_extension": ".py",
   "mimetype": "text/x-python",
   "name": "python",
   "nbconvert_exporter": "python",
   "pygments_lexer": "ipython3",
   "version": "3.5.1"
  },
  "widgets": {
   "state": {
    "42900fddd3c74593aaa33a35281d5173": {
     "views": [
      {
       "cell_index": 3.0
      }
     ]
    },
    "7102148513134f099d7bfc398fb28e3b": {
     "views": [
      {
       "cell_index": 3.0
      }
     ]
    },
    "87d7be2963674ce2b0b79196abf26d81": {
     "views": [
      {
       "cell_index": 3.0
      }
     ]
    },
    "899783214d5c41a8868407eb870cc1cb": {
     "views": [
      {
       "cell_index": 3.0
      }
     ]
    },
    "8af4aef5abc24c46b47e6e043a1e843b": {
     "views": [
      {
       "cell_index": 3.0
      }
     ]
    },
    "d0dd4959691b46ae9cb660ca74c42bd3": {
     "views": [
      {
       "cell_index": 3.0
      }
     ]
    },
    "eab360261ca341e28b72e19bad70f746": {
     "views": [
      {
       "cell_index": 3.0
      }
     ]
    }
   },
   "version": "1.2.0"
  }
 },
 "nbformat": 4,
 "nbformat_minor": 0
}